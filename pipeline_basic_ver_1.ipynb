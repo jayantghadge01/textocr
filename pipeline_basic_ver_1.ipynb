{
 "cells": [
  {
   "cell_type": "code",
   "execution_count": 1,
   "metadata": {},
   "outputs": [],
   "source": [
    "import numpy as np\n",
    "import cv2\n",
    "from tensorflow import keras\n",
    "import pandas as pd"
   ]
  },
  {
   "cell_type": "code",
   "execution_count": 2,
   "metadata": {},
   "outputs": [],
   "source": [
    "def denoise_image(img):\n",
    "    #img is a numpy array that was earlier processed by median filter\n",
    "    model=keras.model.load_model(\"no_skip_conn_encoder.h5\")\n",
    "    ans=model.predict(np.expand_dims(img,axis=0))\n",
    "    return ans[0]\n",
    "def median_filter(data, filter_size):\n",
    "    temp = []\n",
    "    indexer = filter_size // 2\n",
    "    data_final = []\n",
    "    data_final = np.zeros((len(data),len(data[0])))\n",
    "    for i in range(len(data)):\n",
    "\n",
    "        for j in range(len(data[0])):\n",
    "\n",
    "            for z in range(filter_size):\n",
    "                if i + z - indexer < 0 or i + z - indexer > len(data) - 1:\n",
    "                    for c in range(filter_size):\n",
    "                        temp.append(0)\n",
    "                else:\n",
    "                    if j + z - indexer < 0 or j + indexer > len(data[0]) - 1:\n",
    "                        temp.append(0)\n",
    "                    else:\n",
    "                        for k in range(filter_size):\n",
    "                            temp.append(data[i + z - indexer][j + k - indexer])\n",
    "\n",
    "            temp.sort()\n",
    "            data_final[i][j] = temp[len(temp) // 2]\n",
    "            temp = []\n",
    "    return data_final\n",
    "def salt_pepper_denoise(img,filter_size):\n",
    "    for i in range(3):\n",
    "        img[:,:,i]=median_filter(img[:,:,i],2)\n",
    "    return img\n",
    "# the function salt_pepper_denoise is the function that will be called."
   ]
  },
  {
   "cell_type": "code",
   "execution_count": 3,
   "metadata": {},
   "outputs": [],
   "source": [
    "def sharpen_image(img):\n",
    "    sharpkernel = np.array([[0, -1, 0],\n",
    "                   [-1, 5,-1],\n",
    "                   [0, -1, 0]])\n",
    "    image_sharp = cv2.filter2D(src=img, ddepth=-1, kernel=sharpkernel)\n",
    "    return image_sharp"
   ]
  },
  {
   "cell_type": "code",
   "execution_count": 4,
   "metadata": {},
   "outputs": [],
   "source": [
    "# Need to add tesseract to the pipeline after the sharp filter has been applied so as to produce the final text\n",
    "# after the final text has been produced it will be sent to NLP block for correcting the wrong words.\n",
    "# The function below must add the tesseract part\n",
    "\n",
    "def pipeline_composed(path):\n",
    "    img=cv2.imread(path)\n",
    "    img=cv2.resize(img,(600,600))\n",
    "    img = salt_pepper_denoise(img,3)\n",
    "    img=img/255.0\n",
    "    img=denoise_img(img)\n",
    "    return img\n",
    "# Need to add Tesseract and NLP block."
   ]
  },
  {
   "cell_type": "code",
   "execution_count": null,
   "metadata": {},
   "outputs": [],
   "source": []
  }
 ],
 "metadata": {
  "kernelspec": {
   "display_name": "Python 3",
   "language": "python",
   "name": "python3"
  },
  "language_info": {
   "codemirror_mode": {
    "name": "ipython",
    "version": 3
   },
   "file_extension": ".py",
   "mimetype": "text/x-python",
   "name": "python",
   "nbconvert_exporter": "python",
   "pygments_lexer": "ipython3",
   "version": "3.7.6"
  }
 },
 "nbformat": 4,
 "nbformat_minor": 4
}
